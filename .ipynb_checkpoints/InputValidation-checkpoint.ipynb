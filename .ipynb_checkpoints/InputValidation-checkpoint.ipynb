{
 "cells": [
  {
   "cell_type": "markdown",
   "metadata": {},
   "source": [
    "# Import needed libraries"
   ]
  },
  {
   "cell_type": "code",
   "execution_count": 1,
   "metadata": {},
   "outputs": [],
   "source": [
    "import mysql.connector\n",
    "from mysql.connector import Error\n",
    "import pandas as pd"
   ]
  },
  {
   "cell_type": "markdown",
   "metadata": {},
   "source": [
    "## Queries Needed"
   ]
  },
  {
   "cell_type": "code",
   "execution_count": 20,
   "metadata": {},
   "outputs": [],
   "source": [
    "creat_db_query = \"CREATE DATABASE mydb\";\n",
    "\n",
    "create_person_table = \"\"\"\n",
    "CREATE TABLE Person (\n",
    "  phone VARCHAR(100)  PRIMARY KEY,\n",
    "  name VARCHAR(100) NOT NULL,\n",
    "  address VARCHAR(100) NOT NULL\n",
    "  \n",
    "  );\n",
    " \"\"\"\n",
    "person_insert_query = \"\"\"\n",
    "INSERT INTO Person VALUES\n",
    "('Bruce Schneier', '12345', '795 E DRAGRAM Drive, TUCSON, AZ 85705-7598'),\n",
    "('Schneier, Bruce', '(703)111-2121', '795 E DRAGRAM Dr., TUCSON, AZ 85705'), \n",
    "('Schneier, Bruce Wayne', '123-1234', '770W DRAGRAM Drive # 321, TUCSON, AZ 85703');\n",
    "\"\"\"\n",
    "list_query = \"\"\"\n",
    "SELECT * FROM Person;\n",
    "\"\"\""
   ]
  },
  {
   "cell_type": "code",
   "execution_count": 21,
   "metadata": {},
   "outputs": [],
   "source": [
    "update_query = \"\"\"\n",
    "UPDATE Person \n",
    "SET address = '23 Fingiertweg, 14534 Berlin' \n",
    "WHERE phone = '12345';\n",
    "\"\"\"\n",
    "delete_query = \"\"\"\n",
    "DELETE FROM Person \n",
    "WHERE phone = '123-1234';\n",
    "\"\"\"\n",
    "drob_db = \"\"\"\n",
    "DROP DATABASE mydb;\n",
    "\"\"\"\n",
    "drop_table = \"\"\"\n",
    "DROP TABLE Person;\n",
    "\"\"\""
   ]
  },
  {
   "cell_type": "markdown",
   "metadata": {},
   "source": [
    "# Connecting to MySQL Server"
   ]
  },
  {
   "cell_type": "code",
   "execution_count": 3,
   "metadata": {},
   "outputs": [],
   "source": [
    "def create_server_connection(host_name, user_name, user_password):\n",
    "    connection = None\n",
    "    try:\n",
    "        connection = mysql.connector.connect(\n",
    "            host=host_name,\n",
    "            user=user_name,\n",
    "            passwd=user_password\n",
    "        )\n",
    "        print(\"MySQL Database connection successful\")\n",
    "    except Error as err:\n",
    "        print(f\"Error: '{err}'\")\n",
    "\n",
    "    return connection"
   ]
  },
  {
   "cell_type": "markdown",
   "metadata": {},
   "source": [
    "# Pass your computer password to the `pw` variable"
   ]
  },
  {
   "cell_type": "code",
   "execution_count": 4,
   "metadata": {},
   "outputs": [
    {
     "name": "stdout",
     "output_type": "stream",
     "text": [
      "MySQL Database connection successful\n"
     ]
    }
   ],
   "source": [
    "pw = '11213141'\n",
    "connection = create_server_connection(\"localhost\", \"root\", pw)"
   ]
  },
  {
   "cell_type": "markdown",
   "metadata": {},
   "source": [
    "# Creating a New Database"
   ]
  },
  {
   "cell_type": "code",
   "execution_count": 5,
   "metadata": {},
   "outputs": [],
   "source": [
    "def create_database(connection, query):\n",
    "    cursor = connection.cursor()\n",
    "    try:\n",
    "        cursor.execute(query)\n",
    "        print(\"Database created successfully\")\n",
    "    except Error as err:\n",
    "        print(f\"Error: '{err}'\")"
   ]
  },
  {
   "cell_type": "code",
   "execution_count": 6,
   "metadata": {},
   "outputs": [
    {
     "name": "stdout",
     "output_type": "stream",
     "text": [
      "Database created successfully\n"
     ]
    }
   ],
   "source": [
    "create_database(connection, creat_db_query);"
   ]
  },
  {
   "cell_type": "markdown",
   "metadata": {},
   "source": [
    "# Connecting to the Database"
   ]
  },
  {
   "cell_type": "code",
   "execution_count": 7,
   "metadata": {},
   "outputs": [],
   "source": [
    "def create_db_connection(host_name, user_name, user_password, db_name):\n",
    "    connection = None\n",
    "    try:\n",
    "        connection = mysql.connector.connect(\n",
    "            host=host_name,\n",
    "            user=user_name,\n",
    "            passwd=user_password,\n",
    "            database=db_name\n",
    "        )\n",
    "        print(\"MySQL Database connection successful\")\n",
    "    except Error as err:\n",
    "        print(f\"Error: '{err}'\")\n",
    "\n",
    "    return connection"
   ]
  },
  {
   "cell_type": "markdown",
   "metadata": {},
   "source": [
    "# Creating a Query Execution Function"
   ]
  },
  {
   "cell_type": "code",
   "execution_count": 8,
   "metadata": {},
   "outputs": [],
   "source": [
    "def execute_query(connection, query):\n",
    "    cursor = connection.cursor()\n",
    "    try:\n",
    "        cursor.execute(query)\n",
    "        connection.commit()\n",
    "        print(\"Query successful\")\n",
    "    except Error as err:\n",
    "        print(f\"Error: '{err}'\")"
   ]
  },
  {
   "cell_type": "markdown",
   "metadata": {},
   "source": [
    "# Creating Tables"
   ]
  },
  {
   "cell_type": "code",
   "execution_count": 9,
   "metadata": {},
   "outputs": [
    {
     "name": "stdout",
     "output_type": "stream",
     "text": [
      "MySQL Database connection successful\n",
      "Query successful\n"
     ]
    }
   ],
   "source": [
    "connection = create_db_connection(\"localhost\", \"root\", pw, 'mydb'); # Connect to the Database\n",
    "execute_query(connection, create_person_table); # Execute our defined query"
   ]
  },
  {
   "cell_type": "markdown",
   "metadata": {},
   "source": [
    "# Add some data"
   ]
  },
  {
   "cell_type": "code",
   "execution_count": 10,
   "metadata": {},
   "outputs": [
    {
     "name": "stdout",
     "output_type": "stream",
     "text": [
      "MySQL Database connection successful\n",
      "Query successful\n"
     ]
    }
   ],
   "source": [
    "connection = create_db_connection(\"localhost\", \"root\", pw, 'mydb')\n",
    "execute_query(connection, person_insert_query)"
   ]
  },
  {
   "cell_type": "markdown",
   "metadata": {},
   "source": [
    "# Reading Data"
   ]
  },
  {
   "cell_type": "code",
   "execution_count": 11,
   "metadata": {},
   "outputs": [],
   "source": [
    "def read_query(connection, query):\n",
    "    cursor = connection.cursor()\n",
    "    result = None\n",
    "    try:\n",
    "        cursor.execute(query)\n",
    "        result = cursor.fetchall()\n",
    "        return result\n",
    "    except Error as err:\n",
    "        print(f\"Error: '{err}'\")"
   ]
  },
  {
   "cell_type": "code",
   "execution_count": 12,
   "metadata": {},
   "outputs": [
    {
     "name": "stdout",
     "output_type": "stream",
     "text": [
      "MySQL Database connection successful\n",
      "('Schneier, Bruce Wayne', '123-1234', '770W DRAGRAM Drive # 321, TUCSON, AZ 85703')\n",
      "('Schneier, Bruce', '(703)111-2121', '795 E DRAGRAM Dr., TUCSON, AZ 85705')\n",
      "('Bruce Schneier', '12345', '795 E DRAGRAM Drive, TUCSON, AZ 85705-7598')\n"
     ]
    }
   ],
   "source": [
    "connection = create_db_connection(\"localhost\", \"root\", pw, 'mydb')\n",
    "results = read_query(connection, list_query)\n",
    "for result in results:\n",
    "  print(result)"
   ]
  },
  {
   "cell_type": "markdown",
   "metadata": {},
   "source": [
    "# Formatting Output into a pandas DataFrame"
   ]
  },
  {
   "cell_type": "code",
   "execution_count": 13,
   "metadata": {},
   "outputs": [],
   "source": [
    "def formatOutput(results):\n",
    "    from_db = []\n",
    "\n",
    "    for result in results:\n",
    "        result = list(result)\n",
    "        from_db.append(result)\n",
    "\n",
    "\n",
    "    columns = [\"name\", \"phone\", \"address\"]\n",
    "    df = pd.DataFrame(from_db, columns=columns)\n",
    "    return df"
   ]
  },
  {
   "cell_type": "code",
   "execution_count": 14,
   "metadata": {},
   "outputs": [
    {
     "name": "stdout",
     "output_type": "stream",
     "text": [
      "MySQL Database connection successful\n"
     ]
    },
    {
     "data": {
      "text/html": [
       "<div>\n",
       "<style scoped>\n",
       "    .dataframe tbody tr th:only-of-type {\n",
       "        vertical-align: middle;\n",
       "    }\n",
       "\n",
       "    .dataframe tbody tr th {\n",
       "        vertical-align: top;\n",
       "    }\n",
       "\n",
       "    .dataframe thead th {\n",
       "        text-align: right;\n",
       "    }\n",
       "</style>\n",
       "<table border=\"1\" class=\"dataframe\">\n",
       "  <thead>\n",
       "    <tr style=\"text-align: right;\">\n",
       "      <th></th>\n",
       "      <th>name</th>\n",
       "      <th>phone</th>\n",
       "      <th>address</th>\n",
       "    </tr>\n",
       "  </thead>\n",
       "  <tbody>\n",
       "    <tr>\n",
       "      <th>0</th>\n",
       "      <td>Schneier, Bruce Wayne</td>\n",
       "      <td>123-1234</td>\n",
       "      <td>770W DRAGRAM Drive # 321, TUCSON, AZ 85703</td>\n",
       "    </tr>\n",
       "    <tr>\n",
       "      <th>1</th>\n",
       "      <td>Schneier, Bruce</td>\n",
       "      <td>(703)111-2121</td>\n",
       "      <td>795 E DRAGRAM Dr., TUCSON, AZ 85705</td>\n",
       "    </tr>\n",
       "    <tr>\n",
       "      <th>2</th>\n",
       "      <td>Bruce Schneier</td>\n",
       "      <td>12345</td>\n",
       "      <td>795 E DRAGRAM Drive, TUCSON, AZ 85705-7598</td>\n",
       "    </tr>\n",
       "  </tbody>\n",
       "</table>\n",
       "</div>"
      ],
      "text/plain": [
       "                    name          phone  \\\n",
       "0  Schneier, Bruce Wayne       123-1234   \n",
       "1        Schneier, Bruce  (703)111-2121   \n",
       "2         Bruce Schneier          12345   \n",
       "\n",
       "                                      address  \n",
       "0  770W DRAGRAM Drive # 321, TUCSON, AZ 85703  \n",
       "1         795 E DRAGRAM Dr., TUCSON, AZ 85705  \n",
       "2  795 E DRAGRAM Drive, TUCSON, AZ 85705-7598  "
      ]
     },
     "execution_count": 14,
     "metadata": {},
     "output_type": "execute_result"
    }
   ],
   "source": [
    "connection = create_db_connection(\"localhost\", \"root\", pw, 'mydb')\n",
    "results = read_query(connection, list_query)\n",
    "formatOutput(results)"
   ]
  },
  {
   "cell_type": "markdown",
   "metadata": {},
   "source": [
    "# Updating Records"
   ]
  },
  {
   "cell_type": "code",
   "execution_count": 15,
   "metadata": {},
   "outputs": [
    {
     "name": "stdout",
     "output_type": "stream",
     "text": [
      "MySQL Database connection successful\n",
      "Query successful\n"
     ]
    },
    {
     "data": {
      "text/html": [
       "<div>\n",
       "<style scoped>\n",
       "    .dataframe tbody tr th:only-of-type {\n",
       "        vertical-align: middle;\n",
       "    }\n",
       "\n",
       "    .dataframe tbody tr th {\n",
       "        vertical-align: top;\n",
       "    }\n",
       "\n",
       "    .dataframe thead th {\n",
       "        text-align: right;\n",
       "    }\n",
       "</style>\n",
       "<table border=\"1\" class=\"dataframe\">\n",
       "  <thead>\n",
       "    <tr style=\"text-align: right;\">\n",
       "      <th></th>\n",
       "      <th>name</th>\n",
       "      <th>phone</th>\n",
       "      <th>address</th>\n",
       "    </tr>\n",
       "  </thead>\n",
       "  <tbody>\n",
       "    <tr>\n",
       "      <th>0</th>\n",
       "      <td>Schneier, Bruce Wayne</td>\n",
       "      <td>123-1234</td>\n",
       "      <td>770W DRAGRAM Drive # 321, TUCSON, AZ 85703</td>\n",
       "    </tr>\n",
       "    <tr>\n",
       "      <th>1</th>\n",
       "      <td>Schneier, Bruce</td>\n",
       "      <td>(703)111-2121</td>\n",
       "      <td>795 E DRAGRAM Dr., TUCSON, AZ 85705</td>\n",
       "    </tr>\n",
       "    <tr>\n",
       "      <th>2</th>\n",
       "      <td>Bruce Schneier</td>\n",
       "      <td>12345</td>\n",
       "      <td>795 E DRAGRAM Drive, TUCSON, AZ 85705-7598</td>\n",
       "    </tr>\n",
       "  </tbody>\n",
       "</table>\n",
       "</div>"
      ],
      "text/plain": [
       "                    name          phone  \\\n",
       "0  Schneier, Bruce Wayne       123-1234   \n",
       "1        Schneier, Bruce  (703)111-2121   \n",
       "2         Bruce Schneier          12345   \n",
       "\n",
       "                                      address  \n",
       "0  770W DRAGRAM Drive # 321, TUCSON, AZ 85703  \n",
       "1         795 E DRAGRAM Dr., TUCSON, AZ 85705  \n",
       "2  795 E DRAGRAM Drive, TUCSON, AZ 85705-7598  "
      ]
     },
     "execution_count": 15,
     "metadata": {},
     "output_type": "execute_result"
    }
   ],
   "source": [
    "connection = create_db_connection(\"localhost\", \"root\", pw, 'mydb')\n",
    "execute_query(connection, update_query)\n",
    "results = read_query(connection, list_query)\n",
    "formatOutput(results)"
   ]
  },
  {
   "cell_type": "markdown",
   "metadata": {},
   "source": [
    "# Deleting Records"
   ]
  },
  {
   "cell_type": "code",
   "execution_count": 17,
   "metadata": {},
   "outputs": [
    {
     "name": "stdout",
     "output_type": "stream",
     "text": [
      "MySQL Database connection successful\n",
      "Query successful\n"
     ]
    },
    {
     "data": {
      "text/html": [
       "<div>\n",
       "<style scoped>\n",
       "    .dataframe tbody tr th:only-of-type {\n",
       "        vertical-align: middle;\n",
       "    }\n",
       "\n",
       "    .dataframe tbody tr th {\n",
       "        vertical-align: top;\n",
       "    }\n",
       "\n",
       "    .dataframe thead th {\n",
       "        text-align: right;\n",
       "    }\n",
       "</style>\n",
       "<table border=\"1\" class=\"dataframe\">\n",
       "  <thead>\n",
       "    <tr style=\"text-align: right;\">\n",
       "      <th></th>\n",
       "      <th>name</th>\n",
       "      <th>phone</th>\n",
       "      <th>address</th>\n",
       "    </tr>\n",
       "  </thead>\n",
       "  <tbody>\n",
       "    <tr>\n",
       "      <th>0</th>\n",
       "      <td>Schneier, Bruce Wayne</td>\n",
       "      <td>123-1234</td>\n",
       "      <td>770W DRAGRAM Drive # 321, TUCSON, AZ 85703</td>\n",
       "    </tr>\n",
       "    <tr>\n",
       "      <th>1</th>\n",
       "      <td>Schneier, Bruce</td>\n",
       "      <td>(703)111-2121</td>\n",
       "      <td>795 E DRAGRAM Dr., TUCSON, AZ 85705</td>\n",
       "    </tr>\n",
       "    <tr>\n",
       "      <th>2</th>\n",
       "      <td>Bruce Schneier</td>\n",
       "      <td>12345</td>\n",
       "      <td>795 E DRAGRAM Drive, TUCSON, AZ 85705-7598</td>\n",
       "    </tr>\n",
       "  </tbody>\n",
       "</table>\n",
       "</div>"
      ],
      "text/plain": [
       "                    name          phone  \\\n",
       "0  Schneier, Bruce Wayne       123-1234   \n",
       "1        Schneier, Bruce  (703)111-2121   \n",
       "2         Bruce Schneier          12345   \n",
       "\n",
       "                                      address  \n",
       "0  770W DRAGRAM Drive # 321, TUCSON, AZ 85703  \n",
       "1         795 E DRAGRAM Dr., TUCSON, AZ 85705  \n",
       "2  795 E DRAGRAM Drive, TUCSON, AZ 85705-7598  "
      ]
     },
     "execution_count": 17,
     "metadata": {},
     "output_type": "execute_result"
    }
   ],
   "source": [
    "connection = create_db_connection(\"localhost\", \"root\", pw, 'mydb')\n",
    "execute_query(connection, delete_query)\n",
    "results = read_query(connection, list_query)\n",
    "formatOutput(results)"
   ]
  },
  {
   "cell_type": "markdown",
   "metadata": {},
   "source": [
    "## Rebuilding the project (uncomment the below code):"
   ]
  },
  {
   "cell_type": "code",
   "execution_count": null,
   "metadata": {},
   "outputs": [],
   "source": [
    "# connection = create_db_connection(\"localhost\", \"root\", pw, 'mydb')\n",
    "# execute_query(connection, drop_table)\n",
    "# execute_query(connection, drob_db)"
   ]
  },
  {
   "cell_type": "markdown",
   "metadata": {},
   "source": [
    "# References\n",
    "[1] https://www.freecodecamp.org/news/connect-python-with-sql/"
   ]
  },
  {
   "cell_type": "code",
   "execution_count": null,
   "metadata": {},
   "outputs": [],
   "source": []
  }
 ],
 "metadata": {
  "kernelspec": {
   "display_name": "Python 3",
   "language": "python",
   "name": "python3"
  },
  "language_info": {
   "codemirror_mode": {
    "name": "ipython",
    "version": 3
   },
   "file_extension": ".py",
   "mimetype": "text/x-python",
   "name": "python",
   "nbconvert_exporter": "python",
   "pygments_lexer": "ipython3",
   "version": "3.8.3"
  }
 },
 "nbformat": 4,
 "nbformat_minor": 4
}
